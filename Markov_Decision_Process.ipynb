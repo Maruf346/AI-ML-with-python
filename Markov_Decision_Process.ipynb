{
  "nbformat": 4,
  "nbformat_minor": 0,
  "metadata": {
    "colab": {
      "provenance": [],
      "authorship_tag": "ABX9TyNddvA7M4vmrDGgCp2VM/C4",
      "include_colab_link": true
    },
    "kernelspec": {
      "name": "python3",
      "display_name": "Python 3"
    },
    "language_info": {
      "name": "python"
    }
  },
  "cells": [
    {
      "cell_type": "markdown",
      "metadata": {
        "id": "view-in-github",
        "colab_type": "text"
      },
      "source": [
        "<a href=\"https://colab.research.google.com/github/Maruf346/AI-ML-with-python/blob/main/Markov_Decision_Process.ipynb\" target=\"_parent\"><img src=\"https://colab.research.google.com/assets/colab-badge.svg\" alt=\"Open In Colab\"/></a>"
      ]
    },
    {
      "cell_type": "code",
      "execution_count": 1,
      "metadata": {
        "colab": {
          "base_uri": "https://localhost:8080/"
        },
        "id": "ZDX2f7g6Igj-",
        "outputId": "01db8f7e-94da-44e9-981a-73fc74241d29"
      },
      "outputs": [
        {
          "output_type": "stream",
          "name": "stdout",
          "text": [
            "Starting episode:\n",
            "Step 0: State=(0, 0), Action=down, Next=(1, 0), Reward=0\n",
            "Step 1: State=(1, 0), Action=down, Next=(1, 0), Reward=0\n",
            "Step 2: State=(1, 0), Action=down, Next=(1, 0), Reward=0\n",
            "Step 3: State=(1, 0), Action=left, Next=(1, 0), Reward=0\n",
            "Step 4: State=(1, 0), Action=left, Next=(1, 0), Reward=0\n",
            "Step 5: State=(1, 0), Action=down, Next=(1, 0), Reward=0\n",
            "Step 6: State=(1, 0), Action=right, Next=(1, 1), Reward=1\n",
            "Episode finished. Total reward: 1\n",
            "\n",
            "Starting episode:\n",
            "Step 0: State=(0, 0), Action=up, Next=(0, 0), Reward=0\n",
            "Step 1: State=(0, 0), Action=left, Next=(0, 0), Reward=0\n",
            "Step 2: State=(0, 0), Action=left, Next=(0, 0), Reward=0\n",
            "Step 3: State=(0, 0), Action=left, Next=(0, 0), Reward=0\n",
            "Step 4: State=(0, 0), Action=up, Next=(0, 0), Reward=0\n",
            "Step 5: State=(0, 0), Action=up, Next=(0, 0), Reward=0\n",
            "Step 6: State=(0, 0), Action=up, Next=(0, 0), Reward=0\n",
            "Step 7: State=(0, 0), Action=down, Next=(1, 0), Reward=0\n",
            "Step 8: State=(1, 0), Action=up, Next=(0, 0), Reward=0\n",
            "Step 9: State=(0, 0), Action=down, Next=(1, 0), Reward=0\n",
            "Episode finished. Total reward: 0\n",
            "\n",
            "Starting episode:\n",
            "Step 0: State=(0, 0), Action=left, Next=(0, 0), Reward=0\n",
            "Step 1: State=(0, 0), Action=down, Next=(1, 0), Reward=0\n",
            "Step 2: State=(1, 0), Action=down, Next=(1, 0), Reward=0\n",
            "Step 3: State=(1, 0), Action=right, Next=(1, 1), Reward=1\n",
            "Episode finished. Total reward: 1\n",
            "\n",
            "Starting episode:\n",
            "Step 0: State=(0, 0), Action=left, Next=(0, 0), Reward=0\n",
            "Step 1: State=(0, 0), Action=down, Next=(1, 0), Reward=0\n",
            "Step 2: State=(1, 0), Action=up, Next=(0, 0), Reward=0\n",
            "Step 3: State=(0, 0), Action=left, Next=(0, 0), Reward=0\n",
            "Step 4: State=(0, 0), Action=left, Next=(0, 0), Reward=0\n",
            "Step 5: State=(0, 0), Action=down, Next=(1, 0), Reward=0\n",
            "Step 6: State=(1, 0), Action=left, Next=(1, 0), Reward=0\n",
            "Step 7: State=(1, 0), Action=down, Next=(1, 0), Reward=0\n",
            "Step 8: State=(1, 0), Action=up, Next=(0, 0), Reward=0\n",
            "Step 9: State=(0, 0), Action=up, Next=(0, 0), Reward=0\n",
            "Episode finished. Total reward: 0\n",
            "\n",
            "Starting episode:\n",
            "Step 0: State=(0, 0), Action=up, Next=(0, 0), Reward=0\n",
            "Step 1: State=(0, 0), Action=left, Next=(0, 0), Reward=0\n",
            "Step 2: State=(0, 0), Action=down, Next=(1, 0), Reward=0\n",
            "Step 3: State=(1, 0), Action=right, Next=(1, 1), Reward=1\n",
            "Episode finished. Total reward: 1\n",
            "\n"
          ]
        }
      ],
      "source": [
        "import random\n",
        "\n",
        "# Define the environment\n",
        "states = [(0, 0), (0, 1), (1, 0), (1, 1)]  # 2x2 grid\n",
        "actions = ['up', 'down', 'left', 'right']\n",
        "goal_state = (1, 1)\n",
        "\n",
        "# Transition function\n",
        "def get_next_state(state, action):\n",
        "    i, j = state\n",
        "    if action == 'up' and i > 0:\n",
        "        return (i - 1, j)\n",
        "    elif action == 'down' and i < 1:\n",
        "        return (i + 1, j)\n",
        "    elif action == 'left' and j > 0:\n",
        "        return (i, j - 1)\n",
        "    elif action == 'right' and j < 1:\n",
        "        return (i, j + 1)\n",
        "    return state  # If move is invalid, stay in the same state\n",
        "\n",
        "# Reward function\n",
        "def get_reward(state, next_state):\n",
        "    return 1 if next_state == goal_state else 0\n",
        "\n",
        "# A simple random policy\n",
        "def random_policy(state):\n",
        "    return random.choice(actions)\n",
        "\n",
        "# Run one episode\n",
        "def run_episode():\n",
        "    state = (0, 0)  # Start at top-left\n",
        "    total_reward = 0\n",
        "    steps = 0\n",
        "    print(\"Starting episode:\")\n",
        "    while state != goal_state and steps < 10:\n",
        "        action = random_policy(state)\n",
        "        next_state = get_next_state(state, action)\n",
        "        reward = get_reward(state, next_state)\n",
        "        print(f\"Step {steps}: State={state}, Action={action}, Next={next_state}, Reward={reward}\")\n",
        "        total_reward += reward\n",
        "        state = next_state\n",
        "        steps += 1\n",
        "    print(f\"Episode finished. Total reward: {total_reward}\\n\")\n",
        "\n",
        "# Run multiple episodes\n",
        "for _ in range(5):\n",
        "    run_episode()\n"
      ]
    }
  ]
}