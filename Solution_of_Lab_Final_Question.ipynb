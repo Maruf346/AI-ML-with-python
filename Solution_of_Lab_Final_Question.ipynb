{
  "nbformat": 4,
  "nbformat_minor": 0,
  "metadata": {
    "colab": {
      "provenance": [],
      "authorship_tag": "ABX9TyO4qT+TnjpM1kkqgKpw7nxx",
      "include_colab_link": true
    },
    "kernelspec": {
      "name": "python3",
      "display_name": "Python 3"
    },
    "language_info": {
      "name": "python"
    }
  },
  "cells": [
    {
      "cell_type": "markdown",
      "metadata": {
        "id": "view-in-github",
        "colab_type": "text"
      },
      "source": [
        "<a href=\"https://colab.research.google.com/github/Maruf346/AI-ML-with-python/blob/main/Solution_of_Lab_Final_Question.ipynb\" target=\"_parent\"><img src=\"https://colab.research.google.com/assets/colab-badge.svg\" alt=\"Open In Colab\"/></a>"
      ]
    },
    {
      "cell_type": "code",
      "execution_count": 3,
      "metadata": {
        "colab": {
          "base_uri": "https://localhost:8080/"
        },
        "id": "5-jhIe0ryjJR",
        "outputId": "8cfb7987-532a-4022-cac9-07f516d8054c"
      },
      "outputs": [
        {
          "output_type": "stream",
          "name": "stdout",
          "text": [
            "✅ Dataset created and saved as synthetic_employee_data.csv\n",
            "   Employee_ID Employee_Name  Age  Salary  Years_at_Company  \\\n",
            "0            1         Alice   25   50000                 2   \n",
            "1            2           Bob   30   60000                 4   \n",
            "2            3       Charlie   45   90000                15   \n",
            "3            4         David   29   55000                 3   \n",
            "4            5           Eva   35   72000                 8   \n",
            "\n",
            "   Number_of_Projects  Performance_Score  Is_Manager  Works_Remotely  \\\n",
            "0                   3                 78           0               1   \n",
            "1                   4                 85           0               0   \n",
            "2                   8                 92           1               0   \n",
            "3                   3                 65           0               1   \n",
            "4                   6                 80           0               0   \n",
            "\n",
            "  Department Education_Level Location  Hire_Date  \n",
            "0         HR       Bachelors       NY 2010-01-01  \n",
            "1         IT         Masters       CA 2011-01-01  \n",
            "2    Finance             PhD       TX 2012-01-01  \n",
            "3         HR       Bachelors       NY 2012-12-31  \n",
            "4         IT         Masters       CA 2013-12-31  \n",
            "Dataset Shape: (20, 13)\n",
            "After preprocessing shape: (20, 13)\n",
            "\n",
            "📌 Linear Regression (Salary Prediction)\n",
            "Mean Absolute Error (MAE): 0.3385547276123471\n",
            "R² Score: 0.8591165815292435\n",
            "\n",
            "📌 Naive Bayes Classification (Performance)\n",
            "              precision    recall  f1-score   support\n",
            "\n",
            "         Low       1.00      1.00      1.00         4\n",
            "\n",
            "    accuracy                           1.00         4\n",
            "   macro avg       1.00      1.00      1.00         4\n",
            "weighted avg       1.00      1.00      1.00         4\n",
            "\n"
          ]
        }
      ],
      "source": [
        "# ==============================\n",
        "# 📘 Machine Learning Lab Assignment\n",
        "# ==============================\n",
        "\n",
        "# ---\n",
        "# Course: CSE 412 - Machine Learning Lab\n",
        "# Task: Employee Performance and Salary Analysis\n",
        "# ---\n",
        "\n",
        "# ==============================\n",
        "# Step 1: Manually Create Dataset\n",
        "# ==============================\n",
        "import pandas as pd\n",
        "\n",
        "# Synthetic employee dataset\n",
        "data = {\n",
        "    \"Employee_ID\": range(1, 21),\n",
        "    \"Employee_Name\": [\n",
        "        \"Alice\",\"Bob\",\"Charlie\",\"David\",\"Eva\",\"Frank\",\"Grace\",\"Helen\",\"Ian\",\"Jack\",\n",
        "        \"Karen\",\"Leo\",\"Mona\",\"Nina\",\"Oscar\",\"Paul\",\"Queen\",\"Raj\",\"Sophia\",\"Tom\"\n",
        "    ],\n",
        "    \"Age\": [25, 30, 45, 29, 35, 40, 28, 32, 50, 41,\n",
        "            27, 33, 38, 42, 31, 36, 29, 48, 34, 39],\n",
        "    \"Salary\": [50000, 60000, 90000, 55000, 72000, 85000, 58000, 64000, 120000, 95000,\n",
        "               52000, 67000, 75000, 88000, 61000, 70000, 56000, 110000, 73000, 82000],\n",
        "    \"Years_at_Company\": [2, 4, 15, 3, 8, 12, 5, 6, 20, 13,\n",
        "                         2, 7, 9, 14, 4, 10, 3, 18, 6, 11],\n",
        "    \"Number_of_Projects\": [3, 4, 8, 3, 6, 7, 4, 5, 10, 9,\n",
        "                           3, 5, 6, 7, 4, 8, 3, 9, 5, 7],\n",
        "    \"Performance_Score\": [78, 85, 92, 65, 80, 88, 70, 75, 95, 90,\n",
        "                          60, 77, 83, 89, 72, 81, 66, 94, 79, 87],\n",
        "    \"Is_Manager\": [0,0,1,0,0,1,0,0,1,1,\n",
        "                   0,0,1,1,0,0,0,1,0,1],\n",
        "    \"Works_Remotely\": [1,0,0,1,0,0,1,0,0,1,\n",
        "                       1,0,0,1,0,0,1,0,0,1],\n",
        "    \"Department\": [\"HR\",\"IT\",\"Finance\",\"HR\",\"IT\",\"Finance\",\"HR\",\"IT\",\"Finance\",\"IT\",\n",
        "                   \"HR\",\"Finance\",\"IT\",\"Finance\",\"HR\",\"IT\",\"Finance\",\"HR\",\"IT\",\"Finance\"],\n",
        "    \"Education_Level\": [\"Bachelors\",\"Masters\",\"PhD\",\"Bachelors\",\"Masters\",\"PhD\",\"Bachelors\",\"Masters\",\"PhD\",\"Masters\",\n",
        "                        \"Bachelors\",\"PhD\",\"Masters\",\"PhD\",\"Bachelors\",\"Masters\",\"Bachelors\",\"PhD\",\"Masters\",\"PhD\"],\n",
        "    \"Location\": [\"NY\",\"CA\",\"TX\",\"NY\",\"CA\",\"TX\",\"NY\",\"CA\",\"TX\",\"CA\",\n",
        "                 \"NY\",\"TX\",\"CA\",\"TX\",\"NY\",\"CA\",\"NY\",\"TX\",\"CA\",\"TX\"],\n",
        "    \"Hire_Date\": pd.date_range(start=\"2010-01-01\", periods=20, freq=\"365D\")\n",
        "}\n",
        "\n",
        "df = pd.DataFrame(data)\n",
        "\n",
        "# Save to CSV\n",
        "df.to_csv(\"synthetic_employee_data.csv\", index=False)\n",
        "\n",
        "print(\"✅ Dataset created and saved as synthetic_employee_data.csv\")\n",
        "print(df.head())\n",
        "\n",
        "# ==============================\n",
        "# Step 2: Import Libraries\n",
        "# ==============================\n",
        "import numpy as np\n",
        "import matplotlib.pyplot as plt\n",
        "import seaborn as sns\n",
        "\n",
        "from sklearn.model_selection import train_test_split\n",
        "from sklearn.preprocessing import StandardScaler, OneHotEncoder, LabelEncoder\n",
        "from sklearn.compose import ColumnTransformer\n",
        "from sklearn.pipeline import Pipeline\n",
        "from sklearn.impute import SimpleImputer\n",
        "from sklearn.linear_model import LinearRegression\n",
        "from sklearn.naive_bayes import GaussianNB\n",
        "from sklearn.metrics import mean_absolute_error, r2_score, accuracy_score, precision_score, recall_score, f1_score, classification_report\n",
        "\n",
        "import tensorflow as tf\n",
        "from tensorflow.keras.models import Sequential\n",
        "from tensorflow.keras.layers import Dense\n",
        "\n",
        "# ==============================\n",
        "# Step 3: Load Dataset\n",
        "# ==============================\n",
        "df = pd.read_csv(\"synthetic_employee_data.csv\")\n",
        "print(\"Dataset Shape:\", df.shape)\n",
        "df.head()\n",
        "\n",
        "# ==============================\n",
        "# Step 4: Data Preparation\n",
        "# ==============================\n",
        "\n",
        "# Drop irrelevant columns\n",
        "df = df.drop(columns=[\"Employee_ID\", \"Employee_Name\", \"Hire_Date\"])\n",
        "\n",
        "# Handle missing values\n",
        "num_cols = df.select_dtypes(include=[\"int64\",\"float64\"]).columns\n",
        "cat_cols = df.select_dtypes(include=[\"object\"]).columns\n",
        "\n",
        "num_imputer = SimpleImputer(strategy=\"mean\")\n",
        "cat_imputer = SimpleImputer(strategy=\"most_frequent\")\n",
        "\n",
        "df[num_cols] = num_imputer.fit_transform(df[num_cols])\n",
        "df[cat_cols] = cat_imputer.fit_transform(df[cat_cols])\n",
        "\n",
        "# Encode categorical variables\n",
        "df = pd.get_dummies(df, columns=cat_cols, drop_first=True)\n",
        "\n",
        "# Scale numerical features\n",
        "scaler = StandardScaler()\n",
        "df[num_cols] = scaler.fit_transform(df[num_cols])\n",
        "\n",
        "print(\"After preprocessing shape:\", df.shape)\n",
        "df.head()\n",
        "\n",
        "# ==========================================================\n",
        "# 1️⃣ Linear Regression (Salary Prediction)\n",
        "# ==========================================================\n",
        "\n",
        "X = df.drop(columns=[\"Salary\", \"Performance_Score\"])\n",
        "y = df[\"Salary\"]\n",
        "\n",
        "X_train, X_test, y_train, y_test = train_test_split(X, y, test_size=0.2, random_state=42)\n",
        "\n",
        "lr_model = LinearRegression()\n",
        "lr_model.fit(X_train, y_train)\n",
        "\n",
        "y_pred = lr_model.predict(X_test)\n",
        "\n",
        "mae = mean_absolute_error(y_test, y_pred)\n",
        "r2 = r2_score(y_test, y_pred)\n",
        "\n",
        "print(\"\\n📌 Linear Regression (Salary Prediction)\")\n",
        "print(\"Mean Absolute Error (MAE):\", mae)\n",
        "print(\"R² Score:\", r2)\n",
        "\n",
        "# ==========================================================\n",
        "# 2️⃣ Naïve Bayes (Performance Classification)\n",
        "# ==========================================================\n",
        "\n",
        "def categorize_performance(score):\n",
        "    if score >= 80:\n",
        "        return \"High\"\n",
        "    elif score < 50:\n",
        "        return \"Low\"\n",
        "    else:\n",
        "        return \"Medium\"\n",
        "\n",
        "df[\"Performance_Class\"] = df[\"Performance_Score\"].apply(categorize_performance)\n",
        "\n",
        "X = df.drop(columns=[\"Performance_Score\", \"Performance_Class\", \"Salary\"])\n",
        "y = df[\"Performance_Class\"]\n",
        "\n",
        "label_enc = LabelEncoder()\n",
        "y_encoded = label_enc.fit_transform(y)\n",
        "\n",
        "X_train, X_test, y_train, y_test = train_test_split(X, y_encoded, test_size=0.2, random_state=42)\n",
        "\n",
        "nb_model = GaussianNB()\n",
        "nb_model.fit(X_train, y_train)\n",
        "y_pred = nb_model.predict(X_test)\n",
        "\n",
        "print(\"\\n📌 Naive Bayes Classification (Performance)\")\n",
        "print(classification_report(y_test, y_pred, target_names=label_enc.classes_))\n"
      ]
    },
    {
      "cell_type": "code",
      "source": [
        "# ==========================================================\n",
        "# 3️⃣ Neural Networks (Performance Classification)\n",
        "# ==========================================================\n",
        "\n",
        "# Use the y_encoded from the Naive Bayes section\n",
        "# y_nn = tf.keras.utils.to_categorical(y_encoded) # This line is not needed if y_encoded is already one-hot encoded\n",
        "\n",
        "X = df.drop(columns=[\"Performance_Score\", \"Performance_Class\", \"Salary\"])\n",
        "# Re-encode the target variable to ensure it is one-hot encoded for the neural network\n",
        "y_encoded = label_enc.fit_transform(df[\"Performance_Class\"])\n",
        "y_nn = tf.keras.utils.to_categorical(y_encoded)\n",
        "\n",
        "\n",
        "X_train, X_test, y_train, y_test = train_test_split(X, y_nn, test_size=0.2, random_state=42)\n",
        "\n",
        "nn_model = Sequential([\n",
        "    Dense(32, activation=\"relu\", input_shape=(X_train.shape[1],)),\n",
        "    Dense(16, activation=\"relu\"),\n",
        "    Dense(y_nn.shape[1], activation=\"softmax\") # Set the output layer size to match the number of classes\n",
        "])\n",
        "\n",
        "nn_model.compile(optimizer=\"adam\", loss=\"categorical_crossentropy\", metrics=[\"accuracy\"])\n",
        "\n",
        "history = nn_model.fit(X_train, y_train, validation_data=(X_test, y_test), epochs=10, batch_size=4, verbose=1)\n",
        "\n",
        "loss, acc = nn_model.evaluate(X_test, y_test, verbose=0)\n",
        "print(\"\\n📌 Neural Network (Performance Classification)\")\n",
        "print(\"Accuracy:\", acc)\n",
        "\n",
        "plt.plot(history.history[\"accuracy\"], label=\"train_accuracy\")\n",
        "plt.plot(history.history[\"val_accuracy\"], label=\"val_accuracy\")\n",
        "plt.xlabel(\"Epochs\")\n",
        "plt.ylabel(\"Accuracy\")\n",
        "plt.title(\"NN Training Accuracy\")\n",
        "plt.legend()\n",
        "plt.show()\n",
        "\n",
        "# ==========================================================\n",
        "# 📌 Discussion\n",
        "# ==========================================================\n",
        "\"\"\"\n",
        "✔ Linear Regression:\n",
        "- Predicts Salary using features.\n",
        "- MAE and R² measure accuracy.\n",
        "\n",
        "✔ Naïve Bayes:\n",
        "- Simple & interpretable.\n",
        "- Assumes independence of features.\n",
        "- Decent for quick classification.\n",
        "\n",
        "✔ Neural Network:\n",
        "- Learns complex patterns.\n",
        "- Generally higher accuracy.\n",
        "- Requires more compute & data.\n",
        "\n",
        "📊 Naïve Bayes = simple baseline\n",
        "📊 Neural Network = better predictive power\n",
        "\"\"\""
      ],
      "metadata": {
        "colab": {
          "base_uri": "https://localhost:8080/",
          "height": 1000
        },
        "id": "JZ0eWPfbzQhc",
        "outputId": "fa7d2c45-fa3b-4b9b-aea6-627e132a807d"
      },
      "execution_count": 6,
      "outputs": [
        {
          "output_type": "stream",
          "name": "stderr",
          "text": [
            "/usr/local/lib/python3.12/dist-packages/keras/src/layers/core/dense.py:93: UserWarning: Do not pass an `input_shape`/`input_dim` argument to a layer. When using Sequential models, prefer using an `Input(shape)` object as the first layer in the model instead.\n",
            "  super().__init__(activity_regularizer=activity_regularizer, **kwargs)\n"
          ]
        },
        {
          "output_type": "stream",
          "name": "stdout",
          "text": [
            "Epoch 1/10\n"
          ]
        },
        {
          "output_type": "stream",
          "name": "stderr",
          "text": [
            "/usr/local/lib/python3.12/dist-packages/keras/src/ops/nn.py:944: UserWarning: You are using a softmax over axis -1 of a tensor of shape (4, 1). This axis has size 1. The softmax operation will always return the value 1, which is likely not what you intended. Did you mean to use a sigmoid instead?\n",
            "  warnings.warn(\n",
            "/usr/local/lib/python3.12/dist-packages/keras/src/losses/losses.py:33: SyntaxWarning: In loss categorical_crossentropy, expected y_pred.shape to be (batch_size, num_classes) with num_classes > 1. Received: y_pred.shape=(4, 1). Consider using 'binary_crossentropy' if you only have 2 classes.\n",
            "  return self.fn(y_true, y_pred, **self._fn_kwargs)\n"
          ]
        },
        {
          "output_type": "stream",
          "name": "stdout",
          "text": [
            "\r\u001b[1m1/4\u001b[0m \u001b[32m━━━━━\u001b[0m\u001b[37m━━━━━━━━━━━━━━━\u001b[0m \u001b[1m5s\u001b[0m 2s/step - accuracy: 1.0000 - loss: 0.0000e+00"
          ]
        },
        {
          "output_type": "stream",
          "name": "stderr",
          "text": [
            "/usr/local/lib/python3.12/dist-packages/keras/src/ops/nn.py:944: UserWarning: You are using a softmax over axis -1 of a tensor of shape (4, 1). This axis has size 1. The softmax operation will always return the value 1, which is likely not what you intended. Did you mean to use a sigmoid instead?\n",
            "  warnings.warn(\n",
            "/usr/local/lib/python3.12/dist-packages/keras/src/losses/losses.py:33: SyntaxWarning: In loss categorical_crossentropy, expected y_pred.shape to be (batch_size, num_classes) with num_classes > 1. Received: y_pred.shape=(4, 1). Consider using 'binary_crossentropy' if you only have 2 classes.\n",
            "  return self.fn(y_true, y_pred, **self._fn_kwargs)\n"
          ]
        },
        {
          "output_type": "stream",
          "name": "stdout",
          "text": [
            "\b\b\b\b\b\b\b\b\b\b\b\b\b\b\b\b\b\b\b\b\b\b\b\b\b\b\b\b\b\b\b\b\b\b\b\b\b\b\b\b\b\b\b\b\b\b\b\b\b\b\b\b\b\b\b\b\b\b\b\b\b\b\b\b\b\b\b\b\b\b\b\b\b\r\u001b[1m4/4\u001b[0m \u001b[32m━━━━━━━━━━━━━━━━━━━━\u001b[0m\u001b[37m\u001b[0m \u001b[1m2s\u001b[0m 189ms/step - accuracy: 1.0000 - loss: 0.0000e+00 - val_accuracy: 1.0000 - val_loss: 0.0000e+00\n",
            "Epoch 2/10\n",
            "\u001b[1m4/4\u001b[0m \u001b[32m━━━━━━━━━━━━━━━━━━━━\u001b[0m\u001b[37m\u001b[0m \u001b[1m0s\u001b[0m 46ms/step - accuracy: 1.0000 - loss: 0.0000e+00 - val_accuracy: 1.0000 - val_loss: 0.0000e+00\n",
            "Epoch 3/10\n",
            "\u001b[1m4/4\u001b[0m \u001b[32m━━━━━━━━━━━━━━━━━━━━\u001b[0m\u001b[37m\u001b[0m \u001b[1m0s\u001b[0m 44ms/step - accuracy: 1.0000 - loss: 0.0000e+00 - val_accuracy: 1.0000 - val_loss: 0.0000e+00\n",
            "Epoch 4/10\n",
            "\u001b[1m4/4\u001b[0m \u001b[32m━━━━━━━━━━━━━━━━━━━━\u001b[0m\u001b[37m\u001b[0m \u001b[1m0s\u001b[0m 45ms/step - accuracy: 1.0000 - loss: 0.0000e+00 - val_accuracy: 1.0000 - val_loss: 0.0000e+00\n",
            "Epoch 5/10\n",
            "\u001b[1m4/4\u001b[0m \u001b[32m━━━━━━━━━━━━━━━━━━━━\u001b[0m\u001b[37m\u001b[0m \u001b[1m0s\u001b[0m 45ms/step - accuracy: 1.0000 - loss: 0.0000e+00 - val_accuracy: 1.0000 - val_loss: 0.0000e+00\n",
            "Epoch 6/10\n",
            "\u001b[1m4/4\u001b[0m \u001b[32m━━━━━━━━━━━━━━━━━━━━\u001b[0m\u001b[37m\u001b[0m \u001b[1m0s\u001b[0m 45ms/step - accuracy: 1.0000 - loss: 0.0000e+00 - val_accuracy: 1.0000 - val_loss: 0.0000e+00\n",
            "Epoch 7/10\n",
            "\u001b[1m4/4\u001b[0m \u001b[32m━━━━━━━━━━━━━━━━━━━━\u001b[0m\u001b[37m\u001b[0m \u001b[1m0s\u001b[0m 52ms/step - accuracy: 1.0000 - loss: 0.0000e+00 - val_accuracy: 1.0000 - val_loss: 0.0000e+00\n",
            "Epoch 8/10\n",
            "\u001b[1m4/4\u001b[0m \u001b[32m━━━━━━━━━━━━━━━━━━━━\u001b[0m\u001b[37m\u001b[0m \u001b[1m0s\u001b[0m 36ms/step - accuracy: 1.0000 - loss: 0.0000e+00 - val_accuracy: 1.0000 - val_loss: 0.0000e+00\n",
            "Epoch 9/10\n",
            "\u001b[1m4/4\u001b[0m \u001b[32m━━━━━━━━━━━━━━━━━━━━\u001b[0m\u001b[37m\u001b[0m \u001b[1m0s\u001b[0m 53ms/step - accuracy: 1.0000 - loss: 0.0000e+00 - val_accuracy: 1.0000 - val_loss: 0.0000e+00\n",
            "Epoch 10/10\n",
            "\u001b[1m4/4\u001b[0m \u001b[32m━━━━━━━━━━━━━━━━━━━━\u001b[0m\u001b[37m\u001b[0m \u001b[1m0s\u001b[0m 42ms/step - accuracy: 1.0000 - loss: 0.0000e+00 - val_accuracy: 1.0000 - val_loss: 0.0000e+00\n"
          ]
        },
        {
          "output_type": "stream",
          "name": "stderr",
          "text": [
            "/usr/local/lib/python3.12/dist-packages/keras/src/ops/nn.py:944: UserWarning: You are using a softmax over axis -1 of a tensor of shape (None, 1). This axis has size 1. The softmax operation will always return the value 1, which is likely not what you intended. Did you mean to use a sigmoid instead?\n",
            "  warnings.warn(\n",
            "/usr/local/lib/python3.12/dist-packages/keras/src/losses/losses.py:33: SyntaxWarning: In loss categorical_crossentropy, expected y_pred.shape to be (batch_size, num_classes) with num_classes > 1. Received: y_pred.shape=(None, 1). Consider using 'binary_crossentropy' if you only have 2 classes.\n",
            "  return self.fn(y_true, y_pred, **self._fn_kwargs)\n"
          ]
        },
        {
          "output_type": "stream",
          "name": "stdout",
          "text": [
            "\n",
            "📌 Neural Network (Performance Classification)\n",
            "Accuracy: 1.0\n"
          ]
        },
        {
          "output_type": "display_data",
          "data": {
            "text/plain": [
              "<Figure size 640x480 with 1 Axes>"
            ],
            "image/png": "[encoded data removed]"
          },
          "metadata": {}
        },
        {
          "output_type": "execute_result",
          "data": {
            "text/plain": [
              "'\\n✔ Linear Regression:\\n- Predicts Salary using features.\\n- MAE and R² measure accuracy.\\n\\n✔ Naïve Bayes:\\n- Simple & interpretable.\\n- Assumes independence of features.\\n- Decent for quick classification.\\n\\n✔ Neural Network:\\n- Learns complex patterns.\\n- Generally higher accuracy.\\n- Requires more compute & data.\\n\\n📊 Naïve Bayes = simple baseline\\n📊 Neural Network = better predictive power\\n'"
            ],
            "application/vnd.google.colaboratory.intrinsic+json": {
              "type": "string"
            }
          },
          "metadata": {},
          "execution_count": 6
        }
      ]
    }
  ]
}