{
  "nbformat": 4,
  "nbformat_minor": 0,
  "metadata": {
    "colab": {
      "provenance": [],
      "authorship_tag": "ABX9TyNeRSqK0QXjDZJA6J6N2eTl",
      "include_colab_link": true
    },
    "kernelspec": {
      "name": "python3",
      "display_name": "Python 3"
    },
    "language_info": {
      "name": "python"
    }
  },
  "cells": [
    {
      "cell_type": "markdown",
      "metadata": {
        "id": "view-in-github",
        "colab_type": "text"
      },
      "source": [
        "<a href=\"https://colab.research.google.com/github/Maruf346/AI-ML-with-python/blob/main/Fundamental_ML.ipynb\" target=\"_parent\"><img src=\"https://colab.research.google.com/assets/colab-badge.svg\" alt=\"Open In Colab\"/></a>"
      ]
    },
    {
      "cell_type": "code",
      "execution_count": 2,
      "metadata": {
        "colab": {
          "base_uri": "https://localhost:8080/"
        },
        "id": "WVXygxvF9zFv",
        "outputId": "7c025482-2061-4519-cc57-4a7937cfb477"
      },
      "outputs": [
        {
          "output_type": "stream",
          "name": "stdout",
          "text": [
            "banana\n",
            "cherry\n",
            "['apple', 'banana', 'cherry', 'Guava']\n"
          ]
        }
      ],
      "source": [
        "fruits = [\"apple\", \"banana\", \"cherry\"]\n",
        "print(fruits[1])\n",
        "print(fruits[-1])\n",
        "sliced = fruits[0:2]\n",
        "fruits.append(\"Guava\")\n",
        "print(fruits)"
      ]
    },
    {
      "cell_type": "code",
      "source": [
        "coords = (23.5, 90.3)\n",
        "lat, lon = coords\n",
        "print(lat)\n",
        "print(lon)"
      ],
      "metadata": {
        "colab": {
          "base_uri": "https://localhost:8080/"
        },
        "id": "lLw41ZUB-mdD",
        "outputId": "ccbf90be-6c75-4cf1-ea1b-fece72f887fc"
      },
      "execution_count": 4,
      "outputs": [
        {
          "output_type": "stream",
          "name": "stdout",
          "text": [
            "23.5\n",
            "90.3\n"
          ]
        }
      ]
    },
    {
      "cell_type": "code",
      "source": [
        "student = {\"name\": \"Mita\", \"age\": 20}\n",
        "print(student[\"name\"])\n",
        "student[\"CGPA\"] = 3.85\n",
        "print(student)"
      ],
      "metadata": {
        "colab": {
          "base_uri": "https://localhost:8080/"
        },
        "id": "sxZgPup0_I9J",
        "outputId": "e99b5ca6-d65c-4e04-d9e3-a0f3a187f6c3"
      },
      "execution_count": 5,
      "outputs": [
        {
          "output_type": "stream",
          "name": "stdout",
          "text": [
            "Mita\n",
            "{'name': 'Mita', 'age': 20, 'CGPA': 3.85}\n"
          ]
        }
      ]
    },
    {
      "cell_type": "code",
      "source": [
        "for score in [88, 72, 95, 60]:\n",
        "    if score >= 80:\n",
        "        grade = \"A\"\n",
        "    elif score >= 70:\n",
        "        grade = \"B\"\n",
        "    else:\n",
        "        grade = \"C\"\n",
        "    print(score, \"→\", grade)\n",
        "\n",
        "n = 3\n",
        "print(\"\\nLoop: \")\n",
        "while n > 0:\n",
        "    print(n)\n",
        "    n -= 1"
      ],
      "metadata": {
        "colab": {
          "base_uri": "https://localhost:8080/"
        },
        "id": "GvH525kN_hl1",
        "outputId": "170f9ae1-5380-49b0-d8eb-e367f7f0cc3e"
      },
      "execution_count": 9,
      "outputs": [
        {
          "output_type": "stream",
          "name": "stdout",
          "text": [
            "88 → A\n",
            "72 → B\n",
            "95 → A\n",
            "60 → C\n",
            "\n",
            "Loop: \n",
            "3\n",
            "2\n",
            "1\n"
          ]
        }
      ]
    },
    {
      "cell_type": "code",
      "source": [
        "def factorial(n):\n",
        "    result = 1\n",
        "    for i in range(2, n + 1):\n",
        "        result *= i\n",
        "    return result\n",
        "\n",
        "print(\"factorial of 5 is: \",factorial(5))"
      ],
      "metadata": {
        "colab": {
          "base_uri": "https://localhost:8080/"
        },
        "id": "0idOzUqAAAOz",
        "outputId": "d949ec82-6d99-4e40-d858-17eb81813eb8"
      },
      "execution_count": 11,
      "outputs": [
        {
          "output_type": "stream",
          "name": "stdout",
          "text": [
            "factorial of 5 is:  120\n"
          ]
        }
      ]
    },
    {
      "cell_type": "code",
      "source": [
        "nums = [1, 2, 3, 4, 5]\n",
        "evens = list(filter(lambda x: x % 2 == 0, nums))\n",
        "squared = list(map(lambda x: x ** 2, nums))\n",
        "print(evens)\n",
        "print(squared)"
      ],
      "metadata": {
        "colab": {
          "base_uri": "https://localhost:8080/"
        },
        "id": "jQfKk7ISAcbX",
        "outputId": "55605723-bd5c-4dfc-f03c-273dbc4802be"
      },
      "execution_count": 13,
      "outputs": [
        {
          "output_type": "stream",
          "name": "stdout",
          "text": [
            "[2, 4]\n",
            "[1, 4, 9, 16, 25]\n"
          ]
        }
      ]
    },
    {
      "cell_type": "code",
      "source": [
        "class Pet:\n",
        "    def __init__(self, name):\n",
        "        self._name = name\n",
        "\n",
        "    def speak(self):\n",
        "        return \"...\"\n",
        "\n",
        "class Dog(Pet):\n",
        "    def speak(self):\n",
        "        return f\"{self._name} says woof!\"\n",
        "\n",
        "pup = Dog(\"Tommy\")\n",
        "print(pup.speak())"
      ],
      "metadata": {
        "colab": {
          "base_uri": "https://localhost:8080/"
        },
        "id": "wrtCQa5OAv0C",
        "outputId": "0d61d15f-aebf-4fcb-cf55-a3e27b2032eb"
      },
      "execution_count": 14,
      "outputs": [
        {
          "output_type": "stream",
          "name": "stdout",
          "text": [
            "Tommy says woof!\n"
          ]
        }
      ]
    },
    {
      "cell_type": "code",
      "source": [
        "import numpy as np\n",
        "arr = np.array([1, 2, 3])\n",
        "print(arr + 10)\n",
        "mat = np.arange(6).reshape(2, 3)\n",
        "print(mat)"
      ],
      "metadata": {
        "colab": {
          "base_uri": "https://localhost:8080/"
        },
        "id": "b6Pe9JkNA88k",
        "outputId": "b267993b-11f3-407b-ed21-7b8b48d63eb2"
      },
      "execution_count": 15,
      "outputs": [
        {
          "output_type": "stream",
          "name": "stdout",
          "text": [
            "[11 12 13]\n",
            "[[0 1 2]\n",
            " [3 4 5]]\n"
          ]
        }
      ]
    },
    {
      "cell_type": "code",
      "source": [
        "import pandas as pd\n",
        "df = pd.DataFrame({\"city\": [\"Dhaka\", \"Chattogram\", \"Rajshahi\"],\n",
        "                   \"temp\": [34, 32, 30]})\n",
        "print(df[df[\"temp\"] > 31])\n",
        "print(\"\\nMean: \",df[\"temp\"].mean())"
      ],
      "metadata": {
        "colab": {
          "base_uri": "https://localhost:8080/"
        },
        "id": "ea1qibI8BLCn",
        "outputId": "6e99ea22-b89b-4eec-cddf-cfe3569a98c1"
      },
      "execution_count": 18,
      "outputs": [
        {
          "output_type": "stream",
          "name": "stdout",
          "text": [
            "         city  temp\n",
            "0       Dhaka    34\n",
            "1  Chattogram    32\n",
            "\n",
            "Mean:  32.0\n"
          ]
        }
      ]
    },
    {
      "cell_type": "code",
      "source": [
        "import matplotlib.pyplot as plt\n",
        "plt.plot([0, 1, 2, 3], [0, 1, 4, 9], marker=\"o\")\n",
        "plt.title(\"Perfect Squares\")\n",
        "plt.xlabel(\"x\")\n",
        "plt.ylabel(\"x²\")\n",
        "plt.grid(True)\n",
        "plt.show()"
      ],
      "metadata": {
        "colab": {
          "base_uri": "https://localhost:8080/",
          "height": 472
        },
        "id": "D6oSGa4SBpUb",
        "outputId": "bdc3ed1d-61f4-4934-9bde-7d4c9df94595"
      },
      "execution_count": 19,
      "outputs": [
        {
          "output_type": "display_data",
          "data": {
            "text/plain": [
              "<Figure size 640x480 with 1 Axes>"
            ],
            "image/png": "[encoded data removed]"
          },
          "metadata": {}
        }
      ]
    },
    {
      "cell_type": "code",
      "source": [
        "from scipy import integrate\n",
        "import numpy as np\n",
        "\n",
        "a = 0\n",
        "b = np.pi\n",
        "area, _ = integrate.quad(np.sin, a, b)\n",
        "print(\"Area =\", area)"
      ],
      "metadata": {
        "colab": {
          "base_uri": "https://localhost:8080/"
        },
        "id": "8ENWelKeB7FX",
        "outputId": "a6a232f5-71f4-4fa5-d9e0-81a2b2fefda1"
      },
      "execution_count": 20,
      "outputs": [
        {
          "output_type": "stream",
          "name": "stdout",
          "text": [
            "Area = 2.0\n"
          ]
        }
      ]
    },
    {
      "cell_type": "code",
      "source": [
        "from sklearn.datasets import load_iris\n",
        "from sklearn.model_selection import train_test_split\n",
        "from sklearn.tree import DecisionTreeClassifier\n",
        "from sklearn.metrics import accuracy_score\n",
        "\n",
        "X, y = load_iris(return_X_y=True)\n",
        "X_train, X_test, y_train, y_test = train_test_split(X, y, test_size=0.4, random_state=42)\n",
        "\n",
        "model = DecisionTreeClassifier(max_depth=3)\n",
        "model.fit(X_train, y_train)\n",
        "\n",
        "preds = model.predict(X_test)\n",
        "print(\"Accuracy:\", accuracy_score(y_test, preds))"
      ],
      "metadata": {
        "colab": {
          "base_uri": "https://localhost:8080/"
        },
        "id": "bvl3a_FVCIOg",
        "outputId": "ed3ca4be-b590-42a7-a965-10ea0fef5707"
      },
      "execution_count": 24,
      "outputs": [
        {
          "output_type": "stream",
          "name": "stdout",
          "text": [
            "Accuracy: 0.9833333333333333\n"
          ]
        }
      ]
    }
  ]
}