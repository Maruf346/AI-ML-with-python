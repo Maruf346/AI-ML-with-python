{
  "nbformat": 4,
  "nbformat_minor": 0,
  "metadata": {
    "colab": {
      "provenance": [],
      "include_colab_link": true
    },
    "kernelspec": {
      "name": "python3",
      "display_name": "Python 3"
    },
    "language_info": {
      "name": "python"
    }
  },
  "cells": [
    {
      "cell_type": "markdown",
      "metadata": {
        "id": "view-in-github",
        "colab_type": "text"
      },
      "source": [
        "<a href=\"https://colab.research.google.com/github/Maruf346/AI-ML-with-python/blob/main/Graph_Coloring_CSP_AI_.ipynb\" target=\"_parent\"><img src=\"https://colab.research.google.com/assets/colab-badge.svg\" alt=\"Open In Colab\"/></a>"
      ]
    },
    {
      "cell_type": "code",
      "execution_count": null,
      "metadata": {
        "colab": {
          "base_uri": "https://localhost:8080/"
        },
        "id": "1b2_3AgSNs4l",
        "outputId": "25405f2b-d9ec-4130-9c57-0b4d0db6b8e9"
      },
      "outputs": [
        {
          "output_type": "stream",
          "name": "stdout",
          "text": [
            "Graph Coloring Algorithm Test\n",
            "Enter number of vertices: 7\n",
            "\n",
            "Enter matrix:\n",
            "0 1 1 0 0 0 0\n",
            "1 0 1 1 0 0 0\n",
            "1 1 0 1 1 1 0\n",
            "0 1 1 0 1 0 0\n",
            "0 0 1 1 0 1 0\n",
            "0 0 1 0 1 0 0\n",
            "0 0 0 0 0 0 0\n",
            "\n",
            "Enter number of colors: 3\n",
            "\n",
            "Solution exists\n",
            "Colors: RED GREEN BLUE RED GREEN RED RED "
          ]
        }
      ],
      "source": [
        "def graph_coloring(graph, num_of_colors):\n",
        "    V = len(graph)\n",
        "    colors = [0] * V  # Initialize colors for each vertex\n",
        "\n",
        "    def solve(v):\n",
        "        if v == V:\n",
        "            raise Exception(\"Solution found\")\n",
        "        for c in range(1, num_of_colors + 1):\n",
        "            if is_possible(v, c):\n",
        "                colors[v] = c\n",
        "                solve(v + 1)\n",
        "                colors[v] = 0\n",
        "\n",
        "    def is_possible(v, c):\n",
        "        for i in range(V):\n",
        "            if graph[v][i] == 1 and c == colors[i]:\n",
        "                return False\n",
        "        return True\n",
        "\n",
        "    def display():\n",
        "        text_color = [\"\", \"RED\", \"GREEN\", \"BLUE\", \"YELLOW\", \"ORANGE\", \"PINK\",\n",
        "                      \"BLACK\", \"BROWN\", \"WHITE\", \"PURPLE\", \"VIOLET\"]\n",
        "        print(\"Colors: \", end=\"\")\n",
        "        for i in range(V):\n",
        "            print(text_color[colors[i]], end=\" \")\n",
        "\n",
        "    try:\n",
        "        solve(0)\n",
        "        print(\"No solution\")\n",
        "    except Exception as e:\n",
        "        print(\"\\nSolution exists\")\n",
        "        display()\n",
        "\n",
        "\n",
        "# Main function\n",
        "\n",
        "print(\"Graph Coloring Algorithm Test\")\n",
        "\n",
        "# Accept number of vertices\n",
        "V = int(input(\"Enter number of vertices: \"))\n",
        "\n",
        "# Get graph as adjacency matrix\n",
        "print(\"\\nEnter matrix:\")\n",
        "graph = []\n",
        "for _ in range(V):\n",
        "    row = list(map(int, input().split()))\n",
        "    graph.append(row)\n",
        "\n",
        "# Accept number of colors\n",
        "num_colors = int(input(\"\\nEnter number of colors: \"))\n",
        "\n",
        "# Call graph_coloring function\n",
        "graph_coloring(graph, num_colors)\n",
        "\n",
        "\n"
      ]
    },
    {
      "cell_type": "code",
      "source": [
        "def graph_coloring(graph, num_of_colors):\n",
        "    V = len(graph)\n",
        "    colors = [0] * V  # Initialize colors for each vertex\n",
        "\n",
        "    def solve(v):\n",
        "        if v == V:\n",
        "            raise Exception(\"Solution found\")\n",
        "        for c in range(1, num_of_colors + 1):\n",
        "            if is_possible(v, c):\n",
        "                colors[v] = c\n",
        "                solve(v + 1)\n",
        "                colors[v] = 0\n",
        "\n",
        "    def is_possible(v, c):\n",
        "        for i in range(V):\n",
        "            if graph[v][i] == 1 and c == colors[i]:\n",
        "                return False\n",
        "        return True\n",
        "\n",
        "    def display():\n",
        "        text_color = [\"\", \"RED\", \"GREEN\", \"BLUE\", \"YELLOW\", \"ORANGE\", \"PINK\",\n",
        "                      \"BLACK\", \"BROWN\", \"WHITE\", \"PURPLE\", \"VIOLET\"]\n",
        "        print(\"Colors: \", end=\"\")\n",
        "        for i in range(V):\n",
        "            print(text_color[colors[i]], end=\" \")\n",
        "\n",
        "    try:\n",
        "        solve(0)\n",
        "        print(\"No solution\")\n",
        "    except Exception as e:\n",
        "        print(\"\\nSolution exists\")\n",
        "        display()\n",
        "\n",
        "\n",
        "# Main function\n",
        "\n",
        "print(\"Graph Coloring Algorithm Test\")\n",
        "\n",
        "# Accept number of vertices\n",
        "V = int(input(\"Enter number of vertices: \"))\n",
        "\n",
        "# Get graph as adjacency matrix\n",
        "print(\"\\nEnter matrix:\")\n",
        "graph = []\n",
        "for _ in range(V):\n",
        "    row = list(map(int, input().split()))\n",
        "    graph.append(row)\n",
        "\n",
        "# Accept number of colors\n",
        "num_colors = int(input(\"\\nEnter number of colors: \"))\n",
        "\n",
        "# Call graph_coloring function\n",
        "graph_coloring(graph, num_colors)\n",
        "\n",
        "\n"
      ],
      "metadata": {
        "colab": {
          "base_uri": "https://localhost:8080/"
        },
        "id": "BOztuovDgAjd",
        "outputId": "914d4315-d61d-42fd-a342-c25e1c36b2c3"
      },
      "execution_count": null,
      "outputs": [
        {
          "output_type": "stream",
          "name": "stdout",
          "text": [
            "Graph Coloring Algorithm Test\n",
            "Enter number of vertices: 7\n",
            "\n",
            "Enter matrix:\n",
            "0 1 1 0 0 0 0\n",
            "1 0 1 1 0 0 0\n",
            "1 1 0 1 1 1 0\n",
            "0 1 1 0 1 0 0\n",
            "0 0 1 1 0 1 0\n",
            "0 0 1 0 1 0 0\n",
            "0 0 0 0 0 0 0\n",
            "\n",
            "Enter number of colors: 3\n",
            "\n",
            "Solution exists\n",
            "Colors: RED GREEN BLUE RED GREEN RED RED "
          ]
        }
      ]
    },
    {
      "cell_type": "markdown",
      "source": [
        "# **graph_coloring function:**\n",
        "This function takes the input graph (as an adjacency matrix) and the number of colors as parameters. It's responsible for initializing variables and calling the recursive solving function.\n",
        "\n",
        "# **solve function:**\n",
        "This is a recursive function that attempts to find a solution to the graph coloring problem. It iterates through each vertex and tries coloring it with each available color. It backtracks if it encounters a dead-end.\n",
        "\n",
        "# **is_possible function:**\n",
        "This function checks if it's possible to color a vertex with a given color. It examines adjacent vertices to ensure no adjacent vertices have the same color.\n",
        "\n",
        "# **display function:**\n",
        "This function displays the colors of the vertices once a solution is found. It prints out the colors in a human-readable format.\n",
        "\n",
        "\n",
        "# **Main function:**\n",
        "Accepts the number of vertices from the user.\n",
        "Accepts the adjacency matrix representing the graph from the user.\n",
        "Accepts the number of colors from the user.\n",
        "Calls the graph_coloring function with the provided inputs."
      ],
      "metadata": {
        "id": "8BPv1RK1ge8t"
      }
    }
  ]
}