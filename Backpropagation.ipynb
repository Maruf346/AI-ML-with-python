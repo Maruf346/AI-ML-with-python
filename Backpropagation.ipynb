{
  "nbformat": 4,
  "nbformat_minor": 0,
  "metadata": {
    "colab": {
      "provenance": [],
      "authorship_tag": "ABX9TyOP768qQHQTZM0VH+pzfAlU",
      "include_colab_link": true
    },
    "kernelspec": {
      "name": "python3",
      "display_name": "Python 3"
    },
    "language_info": {
      "name": "python"
    }
  },
  "cells": [
    {
      "cell_type": "markdown",
      "metadata": {
        "id": "view-in-github",
        "colab_type": "text"
      },
      "source": [
        "<a href=\"https://colab.research.google.com/github/Maruf346/AI-ML-with-python/blob/main/Backpropagation.ipynb\" target=\"_parent\"><img src=\"https://colab.research.google.com/assets/colab-badge.svg\" alt=\"Open In Colab\"/></a>"
      ]
    },
    {
      "cell_type": "markdown",
      "source": [
        "# **Training a Neural Network using Backpropagation**"
      ],
      "metadata": {
        "id": "w_4cpNxhHnmk"
      }
    },
    {
      "cell_type": "markdown",
      "source": [
        "**Importing necessary libraries, loading iris dataset and splitting into training and testing.**"
      ],
      "metadata": {
        "id": "9gZjoZU-Jz_1"
      }
    },
    {
      "cell_type": "code",
      "execution_count": 125,
      "metadata": {
        "colab": {
          "base_uri": "https://localhost:8080/"
        },
        "id": "gK_n6AcHHaqZ",
        "outputId": "edbf99de-b9a8-44f2-fa59-270c3adb966f"
      },
      "outputs": [
        {
          "output_type": "stream",
          "name": "stdout",
          "text": [
            "(130, 4)\n",
            "(20, 4)\n",
            "(130, 1)\n",
            "(20, 1)\n"
          ]
        }
      ],
      "source": [
        "import numpy as np\n",
        "import pandas as pd\n",
        "from sklearn.datasets import load_iris\n",
        "from sklearn.model_selection import train_test_split\n",
        "import matplotlib.pyplot as plt\n",
        "\n",
        "# Loading dataset\n",
        "data = load_iris ()\n",
        "# Dividing the dataset into target variable and features\n",
        "X=data.data\n",
        "y=data.target\n",
        "\n",
        "# Splitting dataset into training and testing\n",
        "X_train , X_test , y_train , y_test = train_test_split(X, y,\n",
        "test_size =20, random_state =4)\n",
        "y_train = y_train.reshape(( y_train.shape[0], 1))\n",
        "y_test = y_test.reshape ((y_test.shape[0], 1))\n",
        "print(X_train.shape)\n",
        "print(X_test.shape)\n",
        "print(y_train.shape)\n",
        "print(y_test.shape)\n"
      ]
    },
    {
      "cell_type": "markdown",
      "source": [
        "**Now in the next step, we have to start initializing the hyperparameters. We will input the learning rate, iterations, input size, number of hidden layers, and number of output layers.**"
      ],
      "metadata": {
        "id": "OSJzNZixKJHM"
      }
    },
    {
      "cell_type": "code",
      "source": [
        "learning_rate = 0.2\n",
        "iterations = 10000\n",
        "N = y_train.size\n",
        "\n",
        "# Input features\n",
        "input_size = 4\n",
        "\n",
        "# Hidden layers\n",
        "hidden_size = 2\n",
        "\n",
        "# Output layer\n",
        "output_size = 3\n",
        "\n",
        "results = pd.DataFrame(columns=[\"mse\", \"accuracy\"])"
      ],
      "metadata": {
        "id": "-hLxnrthKIwk"
      },
      "execution_count": 134,
      "outputs": []
    },
    {
      "cell_type": "markdown",
      "source": [
        "**Randomly initialize the weights.**"
      ],
      "metadata": {
        "id": "uypvfi1HKkwV"
      }
    },
    {
      "cell_type": "code",
      "source": [
        "np.random.seed (10)\n",
        "\n",
        "# Hidden layer\n",
        "W1 = np.random.normal(scale =0.5, size=(input_size , hidden_size))\n",
        "\n",
        "# Output layer\n",
        "W2 = np.random.normal(scale =0.5, size=( hidden_size , output_size))\n"
      ],
      "metadata": {
        "id": "gmmlPLorKlos"
      },
      "execution_count": 135,
      "outputs": []
    },
    {
      "cell_type": "markdown",
      "source": [
        "**Creating helper functions such as mean squared error, accuracy and sigmoid.**"
      ],
      "metadata": {
        "id": "jicMCXyEKtb8"
      }
    },
    {
      "cell_type": "code",
      "source": [
        "def sigmoid(x):\n",
        "  return 1 / (1 + np.exp(-x))\n",
        "\n",
        "def mean_squared_error(y_pred , y_true):\n",
        "  return ((y_pred - y_true)**2).sum() / (2* y_pred.size)\n",
        "\n",
        "def accuracy(y_pred , y_true):\n",
        "  acc = y_pred.argmax(axis =1) == y_true.argmax(axis =1)\n",
        "  return acc.mean()"
      ],
      "metadata": {
        "id": "dJLYaRcoKtsE"
      },
      "execution_count": 136,
      "outputs": []
    },
    {
      "cell_type": "markdown",
      "source": [
        "**Next is building the Backpropogation model. We will create a for loop for a given number of iterations and will update the weights in each iteration. The model will go through three phases feedforward propagation, the error calculation phase, and the backpropagation phase.**"
      ],
      "metadata": {
        "id": "LRklc6QTLF81"
      }
    },
    {
      "cell_type": "code",
      "source": [
        "for itr in range(iterations):\n",
        "\n",
        "# Implementing feedforward propagation on hidden layer\n",
        "  Z1 = np.dot(X_train , W1)\n",
        "  A1 = sigmoid(Z1)\n",
        "\n",
        "# Implementing feed forward propagation on output layer\n",
        "  Z2 = np.dot(A1, W2)\n",
        "  A2 = sigmoid(Z2)\n",
        "\n",
        "\n",
        "# Calculating the error\n",
        "  mse = mean_squared_error(A2, y_train)\n",
        "  acc = accuracy(A2, y_train)\n",
        "\n",
        "  results = pd.concat([results, pd.DataFrame([{\"mse\":mse , \"accuracy\":acc}])], ignore_index=True)\n",
        "\n",
        "\n",
        "# Backpropagation phase\n",
        "  E1 = A2 - y_train\n",
        "  dW1 = E1 * A2 * (1 - A2)\n",
        "\n",
        "  E2 = np.dot(dW1 , W2.T)\n",
        "  dW2 = E2 * A1 * (1 - A1)\n",
        "\n",
        "\n",
        "# Updating the weights\n",
        "  W2_update = np.dot(A1.T, dW1) / N\n",
        "  W1_update = np.dot(X_train.T, dW2) / N\n",
        "\n",
        "  W2 = W2 - learning_rate * W2_update\n",
        "  W1 = W1 - learning_rate * W1_update\n"
      ],
      "metadata": {
        "colab": {
          "base_uri": "https://localhost:8080/"
        },
        "id": "7EJLEv4JLGe8",
        "outputId": "bb468553-69ef-49f9-e904-7a83b5bfc829"
      },
      "execution_count": 137,
      "outputs": [
        {
          "output_type": "stream",
          "name": "stderr",
          "text": [
            "/tmp/ipython-input-137-3720061712.py:16: FutureWarning: The behavior of DataFrame concatenation with empty or all-NA entries is deprecated. In a future version, this will no longer exclude empty or all-NA columns when determining the result dtypes. To retain the old behavior, exclude the relevant entries before the concat operation.\n",
            "  results = pd.concat([results, pd.DataFrame([{\"mse\":mse , \"accuracy\":acc}])], ignore_index=True)\n"
          ]
        }
      ]
    },
    {
      "cell_type": "markdown",
      "source": [
        "**Now we will plot the mean squared error using pandas plot() function.**"
      ],
      "metadata": {
        "id": "JnVfu3rjLlU8"
      }
    },
    {
      "cell_type": "code",
      "source": [
        "results.mse.plot(title=\"Mean Squared Error\")\n"
      ],
      "metadata": {
        "colab": {
          "base_uri": "https://localhost:8080/",
          "height": 469
        },
        "id": "3D_ZVDR7Lkv1",
        "outputId": "ecc47448-09ec-4352-bcb0-d96007769853"
      },
      "execution_count": 138,
      "outputs": [
        {
          "output_type": "execute_result",
          "data": {
            "text/plain": [
              "<Axes: title={'center': 'Mean Squared Error'}>"
            ]
          },
          "metadata": {},
          "execution_count": 138
        },
        {
          "output_type": "display_data",
          "data": {
            "text/plain": [
              "<Figure size 640x480 with 1 Axes>"
            ],
            "image/png": "[encoded data removed]"
          },
          "metadata": {}
        }
      ]
    },
    {
      "cell_type": "markdown",
      "source": [
        "**And accuracy using the pandas plot() function.**"
      ],
      "metadata": {
        "id": "h2VsYeWBLvRJ"
      }
    },
    {
      "cell_type": "code",
      "source": [
        "results.accuracy.plot(title=\"Accuracy\")"
      ],
      "metadata": {
        "colab": {
          "base_uri": "https://localhost:8080/",
          "height": 469
        },
        "id": "qedn4vdELv4E",
        "outputId": "0401646e-6164-4af3-be83-5d08e0ebb611"
      },
      "execution_count": 139,
      "outputs": [
        {
          "output_type": "execute_result",
          "data": {
            "text/plain": [
              "<Axes: title={'center': 'Accuracy'}>"
            ]
          },
          "metadata": {},
          "execution_count": 139
        },
        {
          "output_type": "display_data",
          "data": {
            "text/plain": [
              "<Figure size 640x480 with 1 Axes>"
            ],
            "image/png": "[encoded data removed]"
          },
          "metadata": {}
        }
      ]
    },
    {
      "cell_type": "markdown",
      "source": [
        "**Now we will calculate the accuracy of the model.**"
      ],
      "metadata": {
        "id": "tfqQ3gziL9a8"
      }
    },
    {
      "cell_type": "code",
      "source": [
        "Z1 = np.dot(X_test , W1)\n",
        "A1 = sigmoid(Z1)\n",
        "\n",
        "Z2 = np.dot(A1, W2)\n",
        "A2 = sigmoid(Z2)\n",
        "\n",
        "acc = accuracy(A2, y_test)\n",
        "print(\"Accuracy: {}\".format(acc))"
      ],
      "metadata": {
        "colab": {
          "base_uri": "https://localhost:8080/"
        },
        "id": "JxHwnPpjL99g",
        "outputId": "4d0be439-1e4b-427c-849f-cf788f4509a9"
      },
      "execution_count": 141,
      "outputs": [
        {
          "output_type": "stream",
          "name": "stdout",
          "text": [
            "Accuracy: 0.85\n"
          ]
        }
      ]
    }
  ]
}