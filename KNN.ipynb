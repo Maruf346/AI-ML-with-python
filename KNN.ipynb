{
  "nbformat": 4,
  "nbformat_minor": 0,
  "metadata": {
    "colab": {
      "provenance": [],
      "authorship_tag": "ABX9TyOD7YRHahJU/LeenLXp4DKQ",
      "include_colab_link": true
    },
    "kernelspec": {
      "name": "python3",
      "display_name": "Python 3"
    },
    "language_info": {
      "name": "python"
    }
  },
  "cells": [
    {
      "cell_type": "markdown",
      "metadata": {
        "id": "view-in-github",
        "colab_type": "text"
      },
      "source": [
        "<a href=\"https://colab.research.google.com/github/Maruf346/AI-ML-with-python/blob/main/KNN.ipynb\" target=\"_parent\"><img src=\"https://colab.research.google.com/assets/colab-badge.svg\" alt=\"Open In Colab\"/></a>"
      ]
    },
    {
      "cell_type": "markdown",
      "source": [
        "# **A. Experiment: Best Train-Test Split for Iris Dataset**"
      ],
      "metadata": {
        "id": "qZLCqMm0gSoT"
      }
    },
    {
      "cell_type": "code",
      "execution_count": 36,
      "metadata": {
        "colab": {
          "base_uri": "https://localhost:8080/"
        },
        "id": "g8YjNzRJfhqn",
        "outputId": "eaba1acf-4dd9-4665-b5ab-7e4033033bb7"
      },
      "outputs": [
        {
          "output_type": "stream",
          "name": "stdout",
          "text": [
            "Test size: 10.0%, Accuracy: 1.00\n",
            "Test size: 20.0%, Accuracy: 1.00\n",
            "Test size: 30.0%, Accuracy: 1.00\n",
            "Test size: 40.0%, Accuracy: 0.98\n",
            "Test size: 50.0%, Accuracy: 0.96\n",
            "Test size: 60.0%, Accuracy: 0.92\n",
            "Test size: 70.0%, Accuracy: 0.94\n",
            "Test size: 80.0%, Accuracy: 0.95\n",
            "Test size: 90.0%, Accuracy: 0.93\n",
            "\n",
            "Best test ratio is: 0.1 with accuracy: 1.00\n"
          ]
        }
      ],
      "source": [
        "from sklearn.datasets import load_iris\n",
        "from sklearn.model_selection import train_test_split\n",
        "from sklearn.neighbors import KNeighborsClassifier\n",
        "from sklearn.metrics import accuracy_score\n",
        "from sklearn.preprocessing import StandardScaler\n",
        "\n",
        "iris = load_iris()\n",
        "X = iris.data\n",
        "y = iris.target\n",
        "\n",
        "best_acc = 0\n",
        "best_ratio = 0\n",
        "\n",
        "ratios = [0.1, 0.2, 0.3, 0.4, 0.5,0.6,0.7,0.8,0.9]\n",
        "for test_ratio in ratios:\n",
        "    X_train, X_test, y_train, y_test = train_test_split(X, y, test_size=test_ratio, random_state=42)\n",
        "\n",
        "    # Scaling (preprocessing...)\n",
        "    scaler = StandardScaler()\n",
        "    X_train_scaled = scaler.fit_transform(X_train)\n",
        "    X_test_scaled = scaler.transform(X_test)\n",
        "\n",
        "    model = KNeighborsClassifier(n_neighbors=3)\n",
        "    model.fit(X_train_scaled, y_train)\n",
        "    preds = model.predict(X_test_scaled)\n",
        "    acc = accuracy_score(y_test, preds)\n",
        "    print(f\"Test size: {test_ratio*100}%, Accuracy: {acc:.2f}\")\n",
        "\n",
        "    if acc > best_acc:\n",
        "        best_acc = acc\n",
        "        best_ratio = test_ratio\n",
        "\n",
        "print(f\"\\nBest test ratio is: {best_ratio} with accuracy: {best_acc:.2f}\")\n",
        "\n"
      ]
    },
    {
      "cell_type": "markdown",
      "source": [
        "# **B. Experiment: Best Train-Test Split for a Custom Dataset**"
      ],
      "metadata": {
        "id": "t7RTrZIqh76z"
      }
    },
    {
      "cell_type": "code",
      "source": [
        "import pandas as pd\n",
        "from sklearn.preprocessing import LabelEncoder, StandardScaler\n",
        "from sklearn.model_selection import train_test_split\n",
        "from sklearn.neighbors import KNeighborsClassifier\n",
        "from sklearn.metrics import accuracy_score\n",
        "\n",
        "#my dataset...\n",
        "data = {\n",
        "    \"Height\": [150, 160, 170, 180, 190, 200],\n",
        "    \"Weight\": [45, 55, 65, 75, 85, 95],\n",
        "    \"Gender\": [\"F\", \"F\", \"M\", \"M\", \"M\", \"M\"]\n",
        "}\n",
        "df = pd.DataFrame(data)\n",
        "\n",
        "X = df[[\"Height\", \"Weight\"]]\n",
        "y = LabelEncoder().fit_transform(df[\"Gender\"])\n",
        "\n",
        "ratios = [0.1, 0.2, 0.3, 0.4, 0.5]\n",
        "\n",
        "best_acc = 0\n",
        "best_ratio = 0\n",
        "\n",
        "for test_ratio in ratios:\n",
        "    X_train, X_test, y_train, y_test = train_test_split(X, y, test_size=test_ratio, random_state=18)\n",
        "\n",
        "    # Scaling (Preprocessing...)\n",
        "    scaler = StandardScaler()\n",
        "    X_train_scaled = scaler.fit_transform(X_train)\n",
        "    X_test_scaled = scaler.transform(X_test)\n",
        "\n",
        "    model = KNeighborsClassifier(n_neighbors=3)\n",
        "    model.fit(X_train_scaled, y_train)\n",
        "    preds = model.predict(X_test_scaled)\n",
        "    acc = accuracy_score(y_test, preds)\n",
        "\n",
        "    print(f\"Test size: {test_ratio*100}%, Accuracy: {acc:.2f}\")\n",
        "\n",
        "    if acc > best_acc:\n",
        "        best_acc = acc\n",
        "        best_ratio = test_ratio\n",
        "\n",
        "print(f\"\\nBest test ratio is: {best_ratio} with accuracy: {best_acc:.2f}\")\n"
      ],
      "metadata": {
        "colab": {
          "base_uri": "https://localhost:8080/"
        },
        "id": "-J0EgwbSh1Bc",
        "outputId": "e3fe3ec0-cec8-4aeb-b9b5-cab72b3c5903"
      },
      "execution_count": 35,
      "outputs": [
        {
          "output_type": "stream",
          "name": "stdout",
          "text": [
            "Test size: 10.0%, Accuracy: 1.00\n",
            "Test size: 20.0%, Accuracy: 1.00\n",
            "Test size: 30.0%, Accuracy: 1.00\n",
            "Test size: 40.0%, Accuracy: 0.67\n",
            "Test size: 50.0%, Accuracy: 0.67\n",
            "\n",
            "Best test ratio is: 0.1 with accuracy: 1.00\n"
          ]
        }
      ]
    }
  ]
}